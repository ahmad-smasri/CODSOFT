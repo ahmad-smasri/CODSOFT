{
  "nbformat": 4,
  "nbformat_minor": 0,
  "metadata": {
    "colab": {
      "provenance": [],
      "mount_file_id": "1XYgi9nXRs8ZHQeP0nHluN2GbYvkbOOEd",
      "authorship_tag": "ABX9TyMFgBbh3iieTZdFo230nDff",
      "include_colab_link": true
    },
    "kernelspec": {
      "name": "python3",
      "display_name": "Python 3"
    },
    "language_info": {
      "name": "python"
    }
  },
  "cells": [
    {
      "cell_type": "markdown",
      "metadata": {
        "id": "view-in-github",
        "colab_type": "text"
      },
      "source": [
        "<a href=\"https://colab.research.google.com/github/ahmad-smasri/CODSOFT/blob/main/Project_1_Movie_Genre_Classification_.ipynb\" target=\"_parent\"><img src=\"https://colab.research.google.com/assets/colab-badge.svg\" alt=\"Open In Colab\"/></a>"
      ]
    },
    {
      "cell_type": "markdown",
      "source": [
        "## Importing needed Libraries"
      ],
      "metadata": {
        "id": "0EIOqbNPhiW4"
      }
    },
    {
      "cell_type": "code",
      "source": [
        "import pandas as pd\n",
        "import numpy as np\n",
        "import matplotlib.pyplot as plt\n",
        "from sklearn.metrics import accuracy_score, precision_score, recall_score, f1_score"
      ],
      "metadata": {
        "id": "W7HYXibp9lDH"
      },
      "execution_count": 1,
      "outputs": []
    },
    {
      "cell_type": "markdown",
      "source": [
        "## Definig the function that reads the text file"
      ],
      "metadata": {
        "id": "Ak3AJ60w9oi2"
      }
    },
    {
      "cell_type": "code",
      "execution_count": 2,
      "metadata": {
        "collapsed": true,
        "id": "epAaX2OPhEtK"
      },
      "outputs": [],
      "source": [
        "def read_data(filename):\n",
        "\n",
        "  with open(filename, 'r') as file:\n",
        "    text = file.read()\n",
        "\n",
        "  paragraphs = text.split('\\n')\n",
        "\n",
        "  data_dict = { \"ID\": [] ,\"Title\": [] , \"Description\": [], \"Genre\": [] }\n",
        "\n",
        "  for paragraph in paragraphs:\n",
        "    word = paragraph.split(\" ::: \")\n",
        "    if len(word) > 3:\n",
        "      data_dict[\"ID\"].append(word[0])\n",
        "      data_dict[\"Title\"].append(word[1])\n",
        "      data_dict[\"Genre\"].append(word[2])\n",
        "      data_dict[\"Description\"].append(word[3])\n",
        "    else:\n",
        "      continue\n",
        "\n",
        "  data = pd.DataFrame(data_dict)\n",
        "  return data"
      ]
    },
    {
      "cell_type": "markdown",
      "source": [
        "### Converting training data into a table"
      ],
      "metadata": {
        "id": "9CECIiuf9-2H"
      }
    },
    {
      "cell_type": "code",
      "source": [
        "training_file = \"/content/drive/MyDrive/Project 1 Dataset/Genre Classification Dataset/train_data.txt\"\n",
        "training_data = read_data(training_file)\n",
        "training_Data = training_data.drop([\"ID\", \"Title\"], axis=1)\n",
        "training_Data.head()"
      ],
      "metadata": {
        "colab": {
          "base_uri": "https://localhost:8080/",
          "height": 206
        },
        "id": "zyaO_SQStyEu",
        "outputId": "f6bcd651-48a0-4982-d54b-219e08a598df"
      },
      "execution_count": 3,
      "outputs": [
        {
          "output_type": "execute_result",
          "data": {
            "text/plain": [
              "                                         Description     Genre\n",
              "0  Listening in to a conversation between his doc...     drama\n",
              "1  A brother and sister with a past incestuous re...  thriller\n",
              "2  As the bus empties the students for their fiel...     adult\n",
              "3  To help their unemployed father make ends meet...     drama\n",
              "4  The film's title refers not only to the un-rec...     drama"
            ],
            "text/html": [
              "\n",
              "  <div id=\"df-b5c29982-5e73-4f78-b476-a25019849d92\" class=\"colab-df-container\">\n",
              "    <div>\n",
              "<style scoped>\n",
              "    .dataframe tbody tr th:only-of-type {\n",
              "        vertical-align: middle;\n",
              "    }\n",
              "\n",
              "    .dataframe tbody tr th {\n",
              "        vertical-align: top;\n",
              "    }\n",
              "\n",
              "    .dataframe thead th {\n",
              "        text-align: right;\n",
              "    }\n",
              "</style>\n",
              "<table border=\"1\" class=\"dataframe\">\n",
              "  <thead>\n",
              "    <tr style=\"text-align: right;\">\n",
              "      <th></th>\n",
              "      <th>Description</th>\n",
              "      <th>Genre</th>\n",
              "    </tr>\n",
              "  </thead>\n",
              "  <tbody>\n",
              "    <tr>\n",
              "      <th>0</th>\n",
              "      <td>Listening in to a conversation between his doc...</td>\n",
              "      <td>drama</td>\n",
              "    </tr>\n",
              "    <tr>\n",
              "      <th>1</th>\n",
              "      <td>A brother and sister with a past incestuous re...</td>\n",
              "      <td>thriller</td>\n",
              "    </tr>\n",
              "    <tr>\n",
              "      <th>2</th>\n",
              "      <td>As the bus empties the students for their fiel...</td>\n",
              "      <td>adult</td>\n",
              "    </tr>\n",
              "    <tr>\n",
              "      <th>3</th>\n",
              "      <td>To help their unemployed father make ends meet...</td>\n",
              "      <td>drama</td>\n",
              "    </tr>\n",
              "    <tr>\n",
              "      <th>4</th>\n",
              "      <td>The film's title refers not only to the un-rec...</td>\n",
              "      <td>drama</td>\n",
              "    </tr>\n",
              "  </tbody>\n",
              "</table>\n",
              "</div>\n",
              "    <div class=\"colab-df-buttons\">\n",
              "\n",
              "  <div class=\"colab-df-container\">\n",
              "    <button class=\"colab-df-convert\" onclick=\"convertToInteractive('df-b5c29982-5e73-4f78-b476-a25019849d92')\"\n",
              "            title=\"Convert this dataframe to an interactive table.\"\n",
              "            style=\"display:none;\">\n",
              "\n",
              "  <svg xmlns=\"http://www.w3.org/2000/svg\" height=\"24px\" viewBox=\"0 -960 960 960\">\n",
              "    <path d=\"M120-120v-720h720v720H120Zm60-500h600v-160H180v160Zm220 220h160v-160H400v160Zm0 220h160v-160H400v160ZM180-400h160v-160H180v160Zm440 0h160v-160H620v160ZM180-180h160v-160H180v160Zm440 0h160v-160H620v160Z\"/>\n",
              "  </svg>\n",
              "    </button>\n",
              "\n",
              "  <style>\n",
              "    .colab-df-container {\n",
              "      display:flex;\n",
              "      gap: 12px;\n",
              "    }\n",
              "\n",
              "    .colab-df-convert {\n",
              "      background-color: #E8F0FE;\n",
              "      border: none;\n",
              "      border-radius: 50%;\n",
              "      cursor: pointer;\n",
              "      display: none;\n",
              "      fill: #1967D2;\n",
              "      height: 32px;\n",
              "      padding: 0 0 0 0;\n",
              "      width: 32px;\n",
              "    }\n",
              "\n",
              "    .colab-df-convert:hover {\n",
              "      background-color: #E2EBFA;\n",
              "      box-shadow: 0px 1px 2px rgba(60, 64, 67, 0.3), 0px 1px 3px 1px rgba(60, 64, 67, 0.15);\n",
              "      fill: #174EA6;\n",
              "    }\n",
              "\n",
              "    .colab-df-buttons div {\n",
              "      margin-bottom: 4px;\n",
              "    }\n",
              "\n",
              "    [theme=dark] .colab-df-convert {\n",
              "      background-color: #3B4455;\n",
              "      fill: #D2E3FC;\n",
              "    }\n",
              "\n",
              "    [theme=dark] .colab-df-convert:hover {\n",
              "      background-color: #434B5C;\n",
              "      box-shadow: 0px 1px 3px 1px rgba(0, 0, 0, 0.15);\n",
              "      filter: drop-shadow(0px 1px 2px rgba(0, 0, 0, 0.3));\n",
              "      fill: #FFFFFF;\n",
              "    }\n",
              "  </style>\n",
              "\n",
              "    <script>\n",
              "      const buttonEl =\n",
              "        document.querySelector('#df-b5c29982-5e73-4f78-b476-a25019849d92 button.colab-df-convert');\n",
              "      buttonEl.style.display =\n",
              "        google.colab.kernel.accessAllowed ? 'block' : 'none';\n",
              "\n",
              "      async function convertToInteractive(key) {\n",
              "        const element = document.querySelector('#df-b5c29982-5e73-4f78-b476-a25019849d92');\n",
              "        const dataTable =\n",
              "          await google.colab.kernel.invokeFunction('convertToInteractive',\n",
              "                                                    [key], {});\n",
              "        if (!dataTable) return;\n",
              "\n",
              "        const docLinkHtml = 'Like what you see? Visit the ' +\n",
              "          '<a target=\"_blank\" href=https://colab.research.google.com/notebooks/data_table.ipynb>data table notebook</a>'\n",
              "          + ' to learn more about interactive tables.';\n",
              "        element.innerHTML = '';\n",
              "        dataTable['output_type'] = 'display_data';\n",
              "        await google.colab.output.renderOutput(dataTable, element);\n",
              "        const docLink = document.createElement('div');\n",
              "        docLink.innerHTML = docLinkHtml;\n",
              "        element.appendChild(docLink);\n",
              "      }\n",
              "    </script>\n",
              "  </div>\n",
              "\n",
              "\n",
              "<div id=\"df-ee2e6693-eae0-4bc0-957b-6017b6d7bbbe\">\n",
              "  <button class=\"colab-df-quickchart\" onclick=\"quickchart('df-ee2e6693-eae0-4bc0-957b-6017b6d7bbbe')\"\n",
              "            title=\"Suggest charts\"\n",
              "            style=\"display:none;\">\n",
              "\n",
              "<svg xmlns=\"http://www.w3.org/2000/svg\" height=\"24px\"viewBox=\"0 0 24 24\"\n",
              "     width=\"24px\">\n",
              "    <g>\n",
              "        <path d=\"M19 3H5c-1.1 0-2 .9-2 2v14c0 1.1.9 2 2 2h14c1.1 0 2-.9 2-2V5c0-1.1-.9-2-2-2zM9 17H7v-7h2v7zm4 0h-2V7h2v10zm4 0h-2v-4h2v4z\"/>\n",
              "    </g>\n",
              "</svg>\n",
              "  </button>\n",
              "\n",
              "<style>\n",
              "  .colab-df-quickchart {\n",
              "      --bg-color: #E8F0FE;\n",
              "      --fill-color: #1967D2;\n",
              "      --hover-bg-color: #E2EBFA;\n",
              "      --hover-fill-color: #174EA6;\n",
              "      --disabled-fill-color: #AAA;\n",
              "      --disabled-bg-color: #DDD;\n",
              "  }\n",
              "\n",
              "  [theme=dark] .colab-df-quickchart {\n",
              "      --bg-color: #3B4455;\n",
              "      --fill-color: #D2E3FC;\n",
              "      --hover-bg-color: #434B5C;\n",
              "      --hover-fill-color: #FFFFFF;\n",
              "      --disabled-bg-color: #3B4455;\n",
              "      --disabled-fill-color: #666;\n",
              "  }\n",
              "\n",
              "  .colab-df-quickchart {\n",
              "    background-color: var(--bg-color);\n",
              "    border: none;\n",
              "    border-radius: 50%;\n",
              "    cursor: pointer;\n",
              "    display: none;\n",
              "    fill: var(--fill-color);\n",
              "    height: 32px;\n",
              "    padding: 0;\n",
              "    width: 32px;\n",
              "  }\n",
              "\n",
              "  .colab-df-quickchart:hover {\n",
              "    background-color: var(--hover-bg-color);\n",
              "    box-shadow: 0 1px 2px rgba(60, 64, 67, 0.3), 0 1px 3px 1px rgba(60, 64, 67, 0.15);\n",
              "    fill: var(--button-hover-fill-color);\n",
              "  }\n",
              "\n",
              "  .colab-df-quickchart-complete:disabled,\n",
              "  .colab-df-quickchart-complete:disabled:hover {\n",
              "    background-color: var(--disabled-bg-color);\n",
              "    fill: var(--disabled-fill-color);\n",
              "    box-shadow: none;\n",
              "  }\n",
              "\n",
              "  .colab-df-spinner {\n",
              "    border: 2px solid var(--fill-color);\n",
              "    border-color: transparent;\n",
              "    border-bottom-color: var(--fill-color);\n",
              "    animation:\n",
              "      spin 1s steps(1) infinite;\n",
              "  }\n",
              "\n",
              "  @keyframes spin {\n",
              "    0% {\n",
              "      border-color: transparent;\n",
              "      border-bottom-color: var(--fill-color);\n",
              "      border-left-color: var(--fill-color);\n",
              "    }\n",
              "    20% {\n",
              "      border-color: transparent;\n",
              "      border-left-color: var(--fill-color);\n",
              "      border-top-color: var(--fill-color);\n",
              "    }\n",
              "    30% {\n",
              "      border-color: transparent;\n",
              "      border-left-color: var(--fill-color);\n",
              "      border-top-color: var(--fill-color);\n",
              "      border-right-color: var(--fill-color);\n",
              "    }\n",
              "    40% {\n",
              "      border-color: transparent;\n",
              "      border-right-color: var(--fill-color);\n",
              "      border-top-color: var(--fill-color);\n",
              "    }\n",
              "    60% {\n",
              "      border-color: transparent;\n",
              "      border-right-color: var(--fill-color);\n",
              "    }\n",
              "    80% {\n",
              "      border-color: transparent;\n",
              "      border-right-color: var(--fill-color);\n",
              "      border-bottom-color: var(--fill-color);\n",
              "    }\n",
              "    90% {\n",
              "      border-color: transparent;\n",
              "      border-bottom-color: var(--fill-color);\n",
              "    }\n",
              "  }\n",
              "</style>\n",
              "\n",
              "  <script>\n",
              "    async function quickchart(key) {\n",
              "      const quickchartButtonEl =\n",
              "        document.querySelector('#' + key + ' button');\n",
              "      quickchartButtonEl.disabled = true;  // To prevent multiple clicks.\n",
              "      quickchartButtonEl.classList.add('colab-df-spinner');\n",
              "      try {\n",
              "        const charts = await google.colab.kernel.invokeFunction(\n",
              "            'suggestCharts', [key], {});\n",
              "      } catch (error) {\n",
              "        console.error('Error during call to suggestCharts:', error);\n",
              "      }\n",
              "      quickchartButtonEl.classList.remove('colab-df-spinner');\n",
              "      quickchartButtonEl.classList.add('colab-df-quickchart-complete');\n",
              "    }\n",
              "    (() => {\n",
              "      let quickchartButtonEl =\n",
              "        document.querySelector('#df-ee2e6693-eae0-4bc0-957b-6017b6d7bbbe button');\n",
              "      quickchartButtonEl.style.display =\n",
              "        google.colab.kernel.accessAllowed ? 'block' : 'none';\n",
              "    })();\n",
              "  </script>\n",
              "</div>\n",
              "\n",
              "    </div>\n",
              "  </div>\n"
            ],
            "application/vnd.google.colaboratory.intrinsic+json": {
              "type": "dataframe",
              "variable_name": "training_Data",
              "summary": "{\n  \"name\": \"training_Data\",\n  \"rows\": 54214,\n  \"fields\": [\n    {\n      \"column\": \"Description\",\n      \"properties\": {\n        \"dtype\": \"string\",\n        \"num_unique_values\": 54086,\n        \"samples\": [\n          \"When a celestial event causes a depressed call centre employee to gain amazing abilities, he is told that he is actually the reincarnation of a powerful warrior. With his new-found ally, he must find out who he must become before the forces who seek his destruction find him.\",\n          \"Set against a lush Western Indian landscape during the monsoon season, CHITRAKUT delicately sets the tone, interweaving the lives of Saloni, Shaan, Debu, Alisha and Kim - all converging at different intersections of life, discovering the meaning of love, encapsulating fractured feelings, consumption of romantic longing and fleeting moments.\",\n          \"It is just after midnight. A family is fast asleep on a vast sofa in\\u00a0front of a television. They are woken abruptly by the sound track of the film they are watching, and find themselves being quite literally\\u00a0moved by the exhilarating sounds and images emanating from the\\u00a0screen.\"\n        ],\n        \"semantic_type\": \"\",\n        \"description\": \"\"\n      }\n    },\n    {\n      \"column\": \"Genre\",\n      \"properties\": {\n        \"dtype\": \"category\",\n        \"num_unique_values\": 27,\n        \"samples\": [\n          \"sport\",\n          \"sci-fi\",\n          \"animation\"\n        ],\n        \"semantic_type\": \"\",\n        \"description\": \"\"\n      }\n    }\n  ]\n}"
            }
          },
          "metadata": {},
          "execution_count": 3
        }
      ]
    },
    {
      "cell_type": "markdown",
      "source": [
        "## Converting testing data into a table"
      ],
      "metadata": {
        "id": "hh2sJKh3-dMm"
      }
    },
    {
      "cell_type": "code",
      "source": [
        "testing_file = \"/content/drive/MyDrive/Project 1 Dataset/Genre Classification Dataset/test_data_solution.txt\"\n",
        "testing_data = read_data(testing_file)\n",
        "testing_Data = testing_data.drop([\"ID\", \"Title\"], axis=1)\n",
        "testing_Data.head()"
      ],
      "metadata": {
        "colab": {
          "base_uri": "https://localhost:8080/",
          "height": 206
        },
        "id": "QKfIcuKK-QjU",
        "outputId": "eb99cb18-d5c4-4d74-f692-63298299d2ea"
      },
      "execution_count": 4,
      "outputs": [
        {
          "output_type": "execute_result",
          "data": {
            "text/plain": [
              "                                         Description        Genre\n",
              "0  L.R. Brane loves his life - his car, his apart...     thriller\n",
              "1  Spain, March 1964: Quico is a very naughty chi...       comedy\n",
              "2  One year in the life of Albin and his family o...  documentary\n",
              "3  His father has died, he hasn't spoken with his...        drama\n",
              "4  Before he was known internationally as a marti...        drama"
            ],
            "text/html": [
              "\n",
              "  <div id=\"df-ec4581a1-e2d2-4c90-9159-f9ae357878ef\" class=\"colab-df-container\">\n",
              "    <div>\n",
              "<style scoped>\n",
              "    .dataframe tbody tr th:only-of-type {\n",
              "        vertical-align: middle;\n",
              "    }\n",
              "\n",
              "    .dataframe tbody tr th {\n",
              "        vertical-align: top;\n",
              "    }\n",
              "\n",
              "    .dataframe thead th {\n",
              "        text-align: right;\n",
              "    }\n",
              "</style>\n",
              "<table border=\"1\" class=\"dataframe\">\n",
              "  <thead>\n",
              "    <tr style=\"text-align: right;\">\n",
              "      <th></th>\n",
              "      <th>Description</th>\n",
              "      <th>Genre</th>\n",
              "    </tr>\n",
              "  </thead>\n",
              "  <tbody>\n",
              "    <tr>\n",
              "      <th>0</th>\n",
              "      <td>L.R. Brane loves his life - his car, his apart...</td>\n",
              "      <td>thriller</td>\n",
              "    </tr>\n",
              "    <tr>\n",
              "      <th>1</th>\n",
              "      <td>Spain, March 1964: Quico is a very naughty chi...</td>\n",
              "      <td>comedy</td>\n",
              "    </tr>\n",
              "    <tr>\n",
              "      <th>2</th>\n",
              "      <td>One year in the life of Albin and his family o...</td>\n",
              "      <td>documentary</td>\n",
              "    </tr>\n",
              "    <tr>\n",
              "      <th>3</th>\n",
              "      <td>His father has died, he hasn't spoken with his...</td>\n",
              "      <td>drama</td>\n",
              "    </tr>\n",
              "    <tr>\n",
              "      <th>4</th>\n",
              "      <td>Before he was known internationally as a marti...</td>\n",
              "      <td>drama</td>\n",
              "    </tr>\n",
              "  </tbody>\n",
              "</table>\n",
              "</div>\n",
              "    <div class=\"colab-df-buttons\">\n",
              "\n",
              "  <div class=\"colab-df-container\">\n",
              "    <button class=\"colab-df-convert\" onclick=\"convertToInteractive('df-ec4581a1-e2d2-4c90-9159-f9ae357878ef')\"\n",
              "            title=\"Convert this dataframe to an interactive table.\"\n",
              "            style=\"display:none;\">\n",
              "\n",
              "  <svg xmlns=\"http://www.w3.org/2000/svg\" height=\"24px\" viewBox=\"0 -960 960 960\">\n",
              "    <path d=\"M120-120v-720h720v720H120Zm60-500h600v-160H180v160Zm220 220h160v-160H400v160Zm0 220h160v-160H400v160ZM180-400h160v-160H180v160Zm440 0h160v-160H620v160ZM180-180h160v-160H180v160Zm440 0h160v-160H620v160Z\"/>\n",
              "  </svg>\n",
              "    </button>\n",
              "\n",
              "  <style>\n",
              "    .colab-df-container {\n",
              "      display:flex;\n",
              "      gap: 12px;\n",
              "    }\n",
              "\n",
              "    .colab-df-convert {\n",
              "      background-color: #E8F0FE;\n",
              "      border: none;\n",
              "      border-radius: 50%;\n",
              "      cursor: pointer;\n",
              "      display: none;\n",
              "      fill: #1967D2;\n",
              "      height: 32px;\n",
              "      padding: 0 0 0 0;\n",
              "      width: 32px;\n",
              "    }\n",
              "\n",
              "    .colab-df-convert:hover {\n",
              "      background-color: #E2EBFA;\n",
              "      box-shadow: 0px 1px 2px rgba(60, 64, 67, 0.3), 0px 1px 3px 1px rgba(60, 64, 67, 0.15);\n",
              "      fill: #174EA6;\n",
              "    }\n",
              "\n",
              "    .colab-df-buttons div {\n",
              "      margin-bottom: 4px;\n",
              "    }\n",
              "\n",
              "    [theme=dark] .colab-df-convert {\n",
              "      background-color: #3B4455;\n",
              "      fill: #D2E3FC;\n",
              "    }\n",
              "\n",
              "    [theme=dark] .colab-df-convert:hover {\n",
              "      background-color: #434B5C;\n",
              "      box-shadow: 0px 1px 3px 1px rgba(0, 0, 0, 0.15);\n",
              "      filter: drop-shadow(0px 1px 2px rgba(0, 0, 0, 0.3));\n",
              "      fill: #FFFFFF;\n",
              "    }\n",
              "  </style>\n",
              "\n",
              "    <script>\n",
              "      const buttonEl =\n",
              "        document.querySelector('#df-ec4581a1-e2d2-4c90-9159-f9ae357878ef button.colab-df-convert');\n",
              "      buttonEl.style.display =\n",
              "        google.colab.kernel.accessAllowed ? 'block' : 'none';\n",
              "\n",
              "      async function convertToInteractive(key) {\n",
              "        const element = document.querySelector('#df-ec4581a1-e2d2-4c90-9159-f9ae357878ef');\n",
              "        const dataTable =\n",
              "          await google.colab.kernel.invokeFunction('convertToInteractive',\n",
              "                                                    [key], {});\n",
              "        if (!dataTable) return;\n",
              "\n",
              "        const docLinkHtml = 'Like what you see? Visit the ' +\n",
              "          '<a target=\"_blank\" href=https://colab.research.google.com/notebooks/data_table.ipynb>data table notebook</a>'\n",
              "          + ' to learn more about interactive tables.';\n",
              "        element.innerHTML = '';\n",
              "        dataTable['output_type'] = 'display_data';\n",
              "        await google.colab.output.renderOutput(dataTable, element);\n",
              "        const docLink = document.createElement('div');\n",
              "        docLink.innerHTML = docLinkHtml;\n",
              "        element.appendChild(docLink);\n",
              "      }\n",
              "    </script>\n",
              "  </div>\n",
              "\n",
              "\n",
              "<div id=\"df-281d43fd-689d-4802-ac37-80cdc9cb666f\">\n",
              "  <button class=\"colab-df-quickchart\" onclick=\"quickchart('df-281d43fd-689d-4802-ac37-80cdc9cb666f')\"\n",
              "            title=\"Suggest charts\"\n",
              "            style=\"display:none;\">\n",
              "\n",
              "<svg xmlns=\"http://www.w3.org/2000/svg\" height=\"24px\"viewBox=\"0 0 24 24\"\n",
              "     width=\"24px\">\n",
              "    <g>\n",
              "        <path d=\"M19 3H5c-1.1 0-2 .9-2 2v14c0 1.1.9 2 2 2h14c1.1 0 2-.9 2-2V5c0-1.1-.9-2-2-2zM9 17H7v-7h2v7zm4 0h-2V7h2v10zm4 0h-2v-4h2v4z\"/>\n",
              "    </g>\n",
              "</svg>\n",
              "  </button>\n",
              "\n",
              "<style>\n",
              "  .colab-df-quickchart {\n",
              "      --bg-color: #E8F0FE;\n",
              "      --fill-color: #1967D2;\n",
              "      --hover-bg-color: #E2EBFA;\n",
              "      --hover-fill-color: #174EA6;\n",
              "      --disabled-fill-color: #AAA;\n",
              "      --disabled-bg-color: #DDD;\n",
              "  }\n",
              "\n",
              "  [theme=dark] .colab-df-quickchart {\n",
              "      --bg-color: #3B4455;\n",
              "      --fill-color: #D2E3FC;\n",
              "      --hover-bg-color: #434B5C;\n",
              "      --hover-fill-color: #FFFFFF;\n",
              "      --disabled-bg-color: #3B4455;\n",
              "      --disabled-fill-color: #666;\n",
              "  }\n",
              "\n",
              "  .colab-df-quickchart {\n",
              "    background-color: var(--bg-color);\n",
              "    border: none;\n",
              "    border-radius: 50%;\n",
              "    cursor: pointer;\n",
              "    display: none;\n",
              "    fill: var(--fill-color);\n",
              "    height: 32px;\n",
              "    padding: 0;\n",
              "    width: 32px;\n",
              "  }\n",
              "\n",
              "  .colab-df-quickchart:hover {\n",
              "    background-color: var(--hover-bg-color);\n",
              "    box-shadow: 0 1px 2px rgba(60, 64, 67, 0.3), 0 1px 3px 1px rgba(60, 64, 67, 0.15);\n",
              "    fill: var(--button-hover-fill-color);\n",
              "  }\n",
              "\n",
              "  .colab-df-quickchart-complete:disabled,\n",
              "  .colab-df-quickchart-complete:disabled:hover {\n",
              "    background-color: var(--disabled-bg-color);\n",
              "    fill: var(--disabled-fill-color);\n",
              "    box-shadow: none;\n",
              "  }\n",
              "\n",
              "  .colab-df-spinner {\n",
              "    border: 2px solid var(--fill-color);\n",
              "    border-color: transparent;\n",
              "    border-bottom-color: var(--fill-color);\n",
              "    animation:\n",
              "      spin 1s steps(1) infinite;\n",
              "  }\n",
              "\n",
              "  @keyframes spin {\n",
              "    0% {\n",
              "      border-color: transparent;\n",
              "      border-bottom-color: var(--fill-color);\n",
              "      border-left-color: var(--fill-color);\n",
              "    }\n",
              "    20% {\n",
              "      border-color: transparent;\n",
              "      border-left-color: var(--fill-color);\n",
              "      border-top-color: var(--fill-color);\n",
              "    }\n",
              "    30% {\n",
              "      border-color: transparent;\n",
              "      border-left-color: var(--fill-color);\n",
              "      border-top-color: var(--fill-color);\n",
              "      border-right-color: var(--fill-color);\n",
              "    }\n",
              "    40% {\n",
              "      border-color: transparent;\n",
              "      border-right-color: var(--fill-color);\n",
              "      border-top-color: var(--fill-color);\n",
              "    }\n",
              "    60% {\n",
              "      border-color: transparent;\n",
              "      border-right-color: var(--fill-color);\n",
              "    }\n",
              "    80% {\n",
              "      border-color: transparent;\n",
              "      border-right-color: var(--fill-color);\n",
              "      border-bottom-color: var(--fill-color);\n",
              "    }\n",
              "    90% {\n",
              "      border-color: transparent;\n",
              "      border-bottom-color: var(--fill-color);\n",
              "    }\n",
              "  }\n",
              "</style>\n",
              "\n",
              "  <script>\n",
              "    async function quickchart(key) {\n",
              "      const quickchartButtonEl =\n",
              "        document.querySelector('#' + key + ' button');\n",
              "      quickchartButtonEl.disabled = true;  // To prevent multiple clicks.\n",
              "      quickchartButtonEl.classList.add('colab-df-spinner');\n",
              "      try {\n",
              "        const charts = await google.colab.kernel.invokeFunction(\n",
              "            'suggestCharts', [key], {});\n",
              "      } catch (error) {\n",
              "        console.error('Error during call to suggestCharts:', error);\n",
              "      }\n",
              "      quickchartButtonEl.classList.remove('colab-df-spinner');\n",
              "      quickchartButtonEl.classList.add('colab-df-quickchart-complete');\n",
              "    }\n",
              "    (() => {\n",
              "      let quickchartButtonEl =\n",
              "        document.querySelector('#df-281d43fd-689d-4802-ac37-80cdc9cb666f button');\n",
              "      quickchartButtonEl.style.display =\n",
              "        google.colab.kernel.accessAllowed ? 'block' : 'none';\n",
              "    })();\n",
              "  </script>\n",
              "</div>\n",
              "\n",
              "    </div>\n",
              "  </div>\n"
            ],
            "application/vnd.google.colaboratory.intrinsic+json": {
              "type": "dataframe",
              "variable_name": "testing_Data",
              "summary": "{\n  \"name\": \"testing_Data\",\n  \"rows\": 54200,\n  \"fields\": [\n    {\n      \"column\": \"Description\",\n      \"properties\": {\n        \"dtype\": \"string\",\n        \"num_unique_values\": 54072,\n        \"samples\": [\n          \"Professional Bar Instructor and Bar Chef Anthony Caporale's unique approach teaches you the bar from both sides! As a customer in front of the bar, you'll learn the correct way to order drinks, the history of alcoholic beverages, and the differences between each type of liquor. From behind the bar, you'll discover the secrets to mixing drinks just like your favorite bartender, including recipes for today's most popular cocktails. The engaging interactive classroom format lets you watch students ask questions, make drinks, and learn as they learn. Art of the Drink is perfect for anyone seeking to increase their drink knowledge, from the uninitiated businessperson who wants to feel more comfortable hosting dinner to the experienced bartender or server looking to increase their sales! Whether you're a novice or a seasoned professional, sit in on this complete class on DVD and learn more about the Art of the Drink!\",\n          \"I'm Okay is a anti-bullying short film. The story evokes around a young teenage girl Becky (played by Wiktoria Wabnyc) who gets harassed by an older female; Jade (played by Bria Olivia-Salmon) for hanging out with her boyfriend. Our aim is to raise awareness regarding bullying and the importance of letting someone know that you are being bullied. It is necessary not to keep it a secret and seek help. Bullying is a significant factor which contributes to the rate of suicide. It can take place in many different forms i.e verbal or physical...it is often hard to identify it.\",\n          \"A young girl who became frustrated in her desire to become an actress starts to work for a telephone-sex company. There she meets a fascinating man who has an obsession for music related with crime.\"\n        ],\n        \"semantic_type\": \"\",\n        \"description\": \"\"\n      }\n    },\n    {\n      \"column\": \"Genre\",\n      \"properties\": {\n        \"dtype\": \"category\",\n        \"num_unique_values\": 27,\n        \"samples\": [\n          \"sport\",\n          \"adult\",\n          \"romance\"\n        ],\n        \"semantic_type\": \"\",\n        \"description\": \"\"\n      }\n    }\n  ]\n}"
            }
          },
          "metadata": {},
          "execution_count": 4
        }
      ]
    },
    {
      "cell_type": "markdown",
      "source": [
        "## Preprocessing Training and Testing Data"
      ],
      "metadata": {
        "id": "rpxYRvXf_M1z"
      }
    },
    {
      "cell_type": "markdown",
      "source": [
        "### Labeling Genres"
      ],
      "metadata": {
        "id": "he4hWFrSFLc9"
      }
    },
    {
      "cell_type": "code",
      "source": [
        "from sklearn.preprocessing import LabelEncoder\n",
        "\n",
        "# Create a LabelEncoder object\n",
        "le = LabelEncoder()\n",
        "\n",
        "#Training Set\n",
        "# Fit the encoder to the categorical data\n",
        "le.fit(training_Data[\"Genre\"])\n",
        "\n",
        "# Transform the categorical data into numerical labels\n",
        "encoded_cat = le.transform(training_Data[\"Genre\"])\n",
        "training_Data[\"Genre\"] = encoded_cat\n",
        "\n",
        "print(training_Data)\n",
        "\n",
        "#Testing Set\n",
        "# Fit the encoder to the categorical data\n",
        "le.fit(testing_Data[\"Genre\"])\n",
        "\n",
        "# Transform the categorical data into numerical labels\n",
        "encoded_cat = le.transform(testing_Data[\"Genre\"])\n",
        "testing_Data[\"Genre\"] = encoded_cat\n",
        "\n",
        "print(testing_Data)"
      ],
      "metadata": {
        "colab": {
          "base_uri": "https://localhost:8080/"
        },
        "id": "ucBEcXvXFPAT",
        "outputId": "23de3224-5c57-45bd-9c07-f6a5608ad4ed"
      },
      "execution_count": 5,
      "outputs": [
        {
          "output_type": "stream",
          "name": "stdout",
          "text": [
            "                                             Description  Genre\n",
            "0      Listening in to a conversation between his doc...      8\n",
            "1      A brother and sister with a past incestuous re...     24\n",
            "2      As the bus empties the students for their fiel...      1\n",
            "3      To help their unemployed father make ends meet...      8\n",
            "4      The film's title refers not only to the un-rec...      8\n",
            "...                                                  ...    ...\n",
            "54209  This short-lived NBC live sitcom centered on B...      5\n",
            "54210  The NEXT Generation of EXPLOITATION. The siste...     13\n",
            "54211  Ze bestaan echt, is a stand-up comedy about gr...      7\n",
            "54212  Walter and Vivian live in the country and have...      5\n",
            "54213  On Labor Day Weekend, 1935, the most intense h...     12\n",
            "\n",
            "[54214 rows x 2 columns]\n",
            "                                             Description  Genre\n",
            "0      L.R. Brane loves his life - his car, his apart...     24\n",
            "1      Spain, March 1964: Quico is a very naughty chi...      5\n",
            "2      One year in the life of Albin and his family o...      7\n",
            "3      His father has died, he hasn't spoken with his...      8\n",
            "4      Before he was known internationally as a marti...      8\n",
            "...                                                  ...    ...\n",
            "54195  Covering multiple genres, Tales of Light & Dar...     13\n",
            "54196  As Alice and Cora Munro attempt to find their ...     26\n",
            "54197  A movie 169 years in the making. Oliver Twist,...      1\n",
            "54198  Popular, but mysterious rock D.J Mike Mallard ...      8\n",
            "54199  Curitiba is a city in movement, with rhythms a...      8\n",
            "\n",
            "[54200 rows x 2 columns]\n"
          ]
        }
      ]
    },
    {
      "cell_type": "markdown",
      "source": [
        "### Preprocessing Description"
      ],
      "metadata": {
        "id": "ybTJx87vFP6g"
      }
    },
    {
      "cell_type": "code",
      "source": [
        "from sklearn.feature_extraction.text import TfidfVectorizer\n",
        "\n",
        "vectorizer = TfidfVectorizer(max_features=10000)\n",
        "\n",
        "#Training set\n",
        "training_features = vectorizer.fit_transform(training_Data[\"Description\"])\n",
        "\n",
        "#Testing set\n",
        "testing_features = vectorizer.transform(testing_Data[\"Description\"])"
      ],
      "metadata": {
        "id": "4FJNZRh2-q8p"
      },
      "execution_count": 6,
      "outputs": []
    },
    {
      "cell_type": "markdown",
      "source": [
        "## Splitting Data between features and Target"
      ],
      "metadata": {
        "id": "mivhrGeCHETK"
      }
    },
    {
      "cell_type": "code",
      "source": [
        "#Training set\n",
        "X_train = training_features\n",
        "y_train = training_Data[\"Genre\"]\n",
        "\n",
        "#Testing set\n",
        "X_test = testing_features\n",
        "y_test = testing_Data[\"Genre\"]"
      ],
      "metadata": {
        "id": "yUNiWqmxGS9d"
      },
      "execution_count": 7,
      "outputs": []
    },
    {
      "cell_type": "markdown",
      "source": [
        "# Training and Testing"
      ],
      "metadata": {
        "id": "uwXnrqEWHSRx"
      }
    },
    {
      "cell_type": "markdown",
      "source": [
        "## Naive Bayes"
      ],
      "metadata": {
        "id": "J6BFI4z6IdRI"
      }
    },
    {
      "cell_type": "code",
      "source": [
        "from sklearn.naive_bayes import MultinomialNB\n",
        "\n",
        "#Training and fitting\n",
        "nb_model = MultinomialNB()\n",
        "nb_model.fit(X_train, y_train)\n",
        "\n",
        "#Testing the model\n",
        "nb_accuracy = accuracy_score(y_test, nb_model.predict(X_test))\n",
        "nb_precision = precision_score(y_test, nb_model.predict(X_test), average='weighted')\n",
        "nb_recall = recall_score(y_test, nb_model.predict(X_test), average='weighted')\n",
        "nb_f1 = f1_score(y_test, nb_model.predict(X_test), average='weighted')\n",
        "\n",
        "print(\"Accuracy:\", nb_accuracy)\n",
        "print(\"Precision:\", nb_precision)\n",
        "print(\"Recall:\", nb_recall)\n",
        "print(\"F1 Score:\", nb_f1)"
      ],
      "metadata": {
        "colab": {
          "base_uri": "https://localhost:8080/"
        },
        "id": "N-GcpstQHYFT",
        "outputId": "e686d072-719b-4e95-c9e9-bdd17d5025ff"
      },
      "execution_count": 8,
      "outputs": [
        {
          "output_type": "stream",
          "name": "stderr",
          "text": [
            "/usr/local/lib/python3.10/dist-packages/sklearn/metrics/_classification.py:1344: UndefinedMetricWarning: Precision is ill-defined and being set to 0.0 in labels with no predicted samples. Use `zero_division` parameter to control this behavior.\n",
            "  _warn_prf(average, modifier, msg_start, len(result))\n"
          ]
        },
        {
          "output_type": "stream",
          "name": "stdout",
          "text": [
            "Accuracy: 0.5092066420664206\n",
            "Precision: 0.4983971980051346\n",
            "Recall: 0.5092066420664206\n",
            "F1 Score: 0.4198005725778971\n"
          ]
        }
      ]
    },
    {
      "cell_type": "markdown",
      "source": [
        "## Logistic Regression"
      ],
      "metadata": {
        "id": "arYarjCTPDhs"
      }
    },
    {
      "cell_type": "code",
      "source": [
        "from sklearn.linear_model import LogisticRegression\n",
        "\n",
        "#Training and Fitting\n",
        "lr_model = LogisticRegression(max_iter=1000)\n",
        "lr_model.fit(X_train, y_train)\n",
        "\n",
        "#Testing Output\n",
        "lr_accuracy = accuracy_score(y_test, lr_model.predict(X_test))\n",
        "lr_precision = precision_score(y_test, lr_model.predict(X_test), average='weighted')\n",
        "lr_recall = recall_score(y_test, lr_model.predict(X_test), average='weighted')\n",
        "lr_f1 = f1_score(y_test, lr_model.predict(X_test), average='weighted')\n",
        "\n",
        "print(\"Accuracy:\", lr_accuracy)\n",
        "print(\"Precision:\", lr_precision)\n",
        "print(\"Recall:\", lr_recall)\n",
        "print(\"F1 Score:\", lr_f1)"
      ],
      "metadata": {
        "colab": {
          "base_uri": "https://localhost:8080/"
        },
        "id": "TMtbg1-6KRBU",
        "outputId": "c365070c-773d-45b4-f18f-103ffe8ccb06"
      },
      "execution_count": 9,
      "outputs": [
        {
          "output_type": "stream",
          "name": "stderr",
          "text": [
            "/usr/local/lib/python3.10/dist-packages/sklearn/metrics/_classification.py:1344: UndefinedMetricWarning: Precision is ill-defined and being set to 0.0 in labels with no predicted samples. Use `zero_division` parameter to control this behavior.\n",
            "  _warn_prf(average, modifier, msg_start, len(result))\n"
          ]
        },
        {
          "output_type": "stream",
          "name": "stdout",
          "text": [
            "Accuracy: 0.5946309963099631\n",
            "Precision: 0.5794043543563216\n",
            "Recall: 0.5946309963099631\n",
            "F1 Score: 0.553183131327619\n"
          ]
        }
      ]
    },
    {
      "cell_type": "markdown",
      "source": [
        "## Support Vector Machines"
      ],
      "metadata": {
        "id": "8qwJFO6nRuzD"
      }
    },
    {
      "cell_type": "code",
      "source": [
        "from sklearn.svm import SVC\n",
        "\n",
        "#Training Set\n",
        "svm_model = SVC(kernel='linear')\n",
        "svm_model.fit(X_train, y_train)\n",
        "\n",
        "#Testing Set\n",
        "svm_accuracy = accuracy_score(y_test, svm_model.predict(X_test))\n",
        "svm_precision = precision_score(y_test, svm_model.predict(X_test), average='weighted')\n",
        "svm_recall = recall_score(y_test, svm_model.predict(X_test), average='weighted')\n",
        "svm_f1 = f1_score(y_test, svm_model.predict(X_test), average='weighted')\n",
        "\n",
        "print(\"Accuracy:\", svm_accuracy)\n",
        "print(\"Precision:\", svm_precision)\n",
        "print(\"Recall:\", svm_recall)\n",
        "print(\"F1 Score:\", svm_f1)"
      ],
      "metadata": {
        "colab": {
          "base_uri": "https://localhost:8080/"
        },
        "id": "b4Sw8-kjPymI",
        "outputId": "c0ea9d77-0c86-4fb9-c0a9-c66a51dd0d29"
      },
      "execution_count": 10,
      "outputs": [
        {
          "output_type": "stream",
          "name": "stderr",
          "text": [
            "/usr/local/lib/python3.10/dist-packages/sklearn/metrics/_classification.py:1344: UndefinedMetricWarning: Precision is ill-defined and being set to 0.0 in labels with no predicted samples. Use `zero_division` parameter to control this behavior.\n",
            "  _warn_prf(average, modifier, msg_start, len(result))\n"
          ]
        },
        {
          "output_type": "stream",
          "name": "stdout",
          "text": [
            "Accuracy: 0.600110701107011\n",
            "Precision: 0.5796187862903709\n",
            "Recall: 0.600110701107011\n",
            "F1 Score: 0.564902354689855\n"
          ]
        }
      ]
    },
    {
      "cell_type": "markdown",
      "source": [
        "# Checking the Optimal Model"
      ],
      "metadata": {
        "id": "l-7LWqoZSfRT"
      }
    },
    {
      "cell_type": "code",
      "source": [
        "max_accuracy = max(svm_accuracy, lr_accuracy, nb_accuracy)\n",
        "max_Precision = max(svm_precision, lr_precision, nb_precision)\n",
        "max_Recall = max(svm_recall, lr_recall, nb_recall)\n",
        "max_F1 = max(svm_f1, lr_f1, nb_f1)\n",
        "\n",
        "if max_accuracy == svm_accuracy:\n",
        "  print(\"The optimal model is Support Vector Machines\")\n",
        "elif max_accuracy == lr_accuracy:\n",
        "  print(\"The optimal model is Logistic Regression\")\n",
        "else:\n",
        "  print(\"The optimal model is Naive Bayes\")\n",
        "\n",
        "if max_Precision == svm_precision:\n",
        "  print(\"The optimal model is Support Vector Machines\")\n",
        "elif max_Precision == lr_precision:\n",
        "  print(\"The optimal model is Logistic Regression\")\n",
        "else:\n",
        "  print(\"The optimal model is Naive Bayes\")\n",
        "\n",
        "if max_Recall == svm_recall:\n",
        "  print(\"The optimal model is Support Vector Machines\")\n",
        "elif max_Recall == lr_recall:\n",
        "  print(\"The optimal model is Logistic Regression\")\n",
        "else:\n",
        "  print(\"The optimal model is Naive Bayes\")\n",
        "\n",
        "if max_F1 == svm_f1:\n",
        "  print(\"The optimal model is Support Vector Machines\")\n",
        "elif max_F1 == lr_f1:\n",
        "  print(\"The optimal model is Logistic Regression\")\n",
        "else:\n",
        "  print(\"The optimal model is Naive Bayes\")"
      ],
      "metadata": {
        "colab": {
          "base_uri": "https://localhost:8080/"
        },
        "id": "e0VpAcCxUoxI",
        "outputId": "6d4716dc-9c71-4957-a437-3621da0d52c9"
      },
      "execution_count": 11,
      "outputs": [
        {
          "output_type": "stream",
          "name": "stdout",
          "text": [
            "The optimal model is Support Vector Machines\n",
            "The optimal model is Support Vector Machines\n",
            "The optimal model is Support Vector Machines\n",
            "The optimal model is Support Vector Machines\n"
          ]
        }
      ]
    }
  ]
}